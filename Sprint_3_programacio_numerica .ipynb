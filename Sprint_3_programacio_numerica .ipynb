{
 "cells": [
  {
   "cell_type": "code",
   "execution_count": 1,
   "id": "048a76f6",
   "metadata": {},
   "outputs": [],
   "source": [
    "import numpy as np\n",
    "from sklearn import datasets\n",
    "\n",
    "iris = datasets.load_iris()"
   ]
  },
  {
   "cell_type": "markdown",
   "id": "97253dad",
   "metadata": {},
   "source": [
    "#### 1. Carregar “data” i \"target\" del conjunt de dades, i visualitza els 10 primers registres de cadascun."
   ]
  },
  {
   "cell_type": "code",
   "execution_count": 2,
   "id": "2d9b535f",
   "metadata": {},
   "outputs": [
    {
     "name": "stdout",
     "output_type": "stream",
     "text": [
      "Primers 10 registres de 'data':\n",
      " [[5.1 3.5 1.4 0.2]\n",
      " [4.9 3.  1.4 0.2]\n",
      " [4.7 3.2 1.3 0.2]\n",
      " [4.6 3.1 1.5 0.2]\n",
      " [5.  3.6 1.4 0.2]\n",
      " [5.4 3.9 1.7 0.4]\n",
      " [4.6 3.4 1.4 0.3]\n",
      " [5.  3.4 1.5 0.2]\n",
      " [4.4 2.9 1.4 0.2]\n",
      " [4.9 3.1 1.5 0.1]]\n",
      "\n",
      "Primers 10 registres de 'target':\n",
      " [0 0 0 0 0 0 0 0 0 0]\n"
     ]
    }
   ],
   "source": [
    "data = iris.data\n",
    "target = iris.target\n",
    "\n",
    "print(\"Primers 10 registres de 'data':\\n\", data[:10])\n",
    "print(\"\\nPrimers 10 registres de 'target':\\n\", target[:10])"
   ]
  },
  {
   "cell_type": "markdown",
   "id": "29344158",
   "metadata": {},
   "source": [
    "#### 2. Concatena “data” i “target” en un nou array. Mostra els 5 primers registres."
   ]
  },
  {
   "cell_type": "code",
   "execution_count": 4,
   "id": "7d0bd093",
   "metadata": {},
   "outputs": [
    {
     "name": "stdout",
     "output_type": "stream",
     "text": [
      "Primers 5 registres del nou array:\n",
      " [[5.1 3.5 1.4 0.2 0. ]\n",
      " [4.9 3.  1.4 0.2 0. ]\n",
      " [4.7 3.2 1.3 0.2 0. ]\n",
      " [4.6 3.1 1.5 0.2 0. ]\n",
      " [5.  3.6 1.4 0.2 0. ]]\n"
     ]
    }
   ],
   "source": [
    "data_target = np.column_stack((data, target))\n",
    "\n",
    "print('Primers 5 registres del nou array:\\n', data_target[:5])"
   ]
  },
  {
   "cell_type": "markdown",
   "id": "bd71fe81",
   "metadata": {},
   "source": [
    "#### 3. Calcula la mitjana i desviació estàndard de la longitud del sèpal (\"sepal length (cm)\") i la longitud del pètal (\"petal length (cm)\"). Mostra els resultats amb dos decimals."
   ]
  },
  {
   "cell_type": "code",
   "execution_count": 9,
   "id": "080fea91",
   "metadata": {},
   "outputs": [
    {
     "name": "stdout",
     "output_type": "stream",
     "text": [
      "Mitjana de la longitud del sèpal: 5.84 cm.\n",
      "Desviació estàndar de la longitud del sèpal: 0.83 cm.\n"
     ]
    }
   ],
   "source": [
    "print('Mitjana de la longitud del sèpal: ' + str(round(np.mean(data_target[:, 0]), 2)) + ' cm.')\n",
    "print('Desviació estàndar de la longitud del sèpal: ' + str(round(np.std(data_target[:, 0]), 2)) + ' cm.')\n"
   ]
  },
  {
   "cell_type": "code",
   "execution_count": 10,
   "id": "99c80dff",
   "metadata": {},
   "outputs": [
    {
     "name": "stdout",
     "output_type": "stream",
     "text": [
      "Mitjana de la longitud del pètal: 3.76cm.\n",
      "Desviació estàndar de la longitud del pètal: 1.76 cm.\n"
     ]
    }
   ],
   "source": [
    "print('Mitjana de la longitud del pètal: ' + str(round(np.mean(data_target[:, 2]),2)) + 'cm.')\n",
    "print('Desviació estàndar de la longitud del pètal: ' + str(round(np.std(data_target[:,2]),2)) +' cm.')"
   ]
  },
  {
   "cell_type": "markdown",
   "id": "3c35b7fe",
   "metadata": {},
   "source": [
    "#### 4. Selecciona una mostra aleatòria de 20 registres del conjunt que has obtingut en l'exercici anterior."
   ]
  },
  {
   "cell_type": "code",
   "execution_count": 11,
   "id": "49b0d4ec",
   "metadata": {},
   "outputs": [
    {
     "name": "stdout",
     "output_type": "stream",
     "text": [
      "Mostra aleatòria de 20 registres:\n",
      " [[6.3 3.3 4.7 1.6 1. ]\n",
      " [6.3 3.4 5.6 2.4 2. ]\n",
      " [6.  3.  4.8 1.8 2. ]\n",
      " [7.7 2.6 6.9 2.3 2. ]\n",
      " [4.6 3.2 1.4 0.2 0. ]\n",
      " [5.7 3.8 1.7 0.3 0. ]\n",
      " [5.  3.4 1.6 0.4 0. ]\n",
      " [6.3 2.5 5.  1.9 2. ]\n",
      " [5.1 3.3 1.7 0.5 0. ]\n",
      " [5.7 2.6 3.5 1.  1. ]\n",
      " [6.3 2.7 4.9 1.8 2. ]\n",
      " [6.  2.2 5.  1.5 2. ]\n",
      " [4.9 3.  1.4 0.2 0. ]\n",
      " [6.5 3.2 5.1 2.  2. ]\n",
      " [6.1 2.6 5.6 1.4 2. ]\n",
      " [5.  3.5 1.6 0.6 0. ]\n",
      " [4.8 3.4 1.6 0.2 0. ]\n",
      " [5.1 3.5 1.4 0.2 0. ]\n",
      " [6.9 3.1 5.1 2.3 2. ]\n",
      " [6.5 3.  5.2 2.  2. ]]\n"
     ]
    }
   ],
   "source": [
    "from numpy import random\n",
    "\n",
    "mostra_aleatoria = data_target[np.random.choice(data_target.shape[0], size=20, replace=False)]\n",
    "\n",
    "print('Mostra aleatòria de 20 registres:\\n', mostra_aleatoria)"
   ]
  },
  {
   "cell_type": "markdown",
   "id": "ac341b80",
   "metadata": {},
   "source": [
    "#### 5. Crea una matriu que mostri: \n",
    "- La mitjana de cada característica per espècie. \n",
    "- La desviació estàndard de cada característica per espècie."
   ]
  },
  {
   "cell_type": "code",
   "execution_count": 12,
   "id": "c58b67e0",
   "metadata": {},
   "outputs": [
    {
     "name": "stdout",
     "output_type": "stream",
     "text": [
      "Mitjanes per Característica i Espècie:\n",
      " [[5.006 3.428 1.462 0.246]\n",
      " [5.936 2.77  4.26  1.326]\n",
      " [6.588 2.974 5.552 2.026]]\n",
      "\n",
      "Desviacions Estàndard per Característica i Espècie:\n",
      " [[0.34894699 0.37525458 0.17191859 0.10432641]\n",
      " [0.51098337 0.31064449 0.46518813 0.19576517]\n",
      " [0.62948868 0.31925538 0.54634787 0.27188968]]\n"
     ]
    }
   ],
   "source": [
    "especies = np.unique(iris['target'])\n",
    "\n",
    "mitjanes_per_especie = []\n",
    "desviacions_per_especie = []\n",
    "\n",
    "for especie in especies:\n",
    "    dades_especie = iris['data'][iris['target'] == especie, :]\n",
    "\n",
    "    mitjanes = np.mean(dades_especie, axis=0)\n",
    "    desviacions = np.std(dades_especie, axis=0)\n",
    "\n",
    "    mitjanes_per_especie.append(mitjanes)\n",
    "    desviacions_per_especie.append(desviacions)\n",
    "\n",
    "mitjanes_per_especie = np.array(mitjanes_per_especie)\n",
    "desviacions_per_especie = np.array(desviacions_per_especie)\n",
    "\n",
    "print('Mitjanes per Característica i Espècie:\\n', mitjanes_per_especie)\n",
    "print('\\nDesviacions Estàndard per Característica i Espècie:\\n',desviacions_per_especie)"
   ]
  },
  {
   "cell_type": "markdown",
   "id": "66324fae",
   "metadata": {},
   "source": [
    "#### 6. \n",
    "- Calcula la quantitat de mostres per espècie.\n",
    "- Troba l'espècie amb el valor màxim mitjana de la variable \"sepal length (cm)\""
   ]
  },
  {
   "cell_type": "code",
   "execution_count": 26,
   "id": "7fcb434a",
   "metadata": {},
   "outputs": [
    {
     "name": "stdout",
     "output_type": "stream",
     "text": [
      "Espècie setosa: 50 mostres\n",
      "Espècie versicolor: 50 mostres\n",
      "Espècie virginica: 50 mostres\n"
     ]
    }
   ],
   "source": [
    "mostres_per_especie = np.bincount(iris['target'])\n",
    "\n",
    "noms_especies = iris['target_names']\n",
    "\n",
    "for especie, quantitat in np.ndenumerate(mostres_per_especie):\n",
    "    nom_especie = noms_especies[especie]\n",
    "    print(f'Espècie {nom_especie}: {quantitat} mostres')"
   ]
  },
  {
   "cell_type": "code",
   "execution_count": 27,
   "id": "b6a42a93",
   "metadata": {},
   "outputs": [
    {
     "name": "stdout",
     "output_type": "stream",
     "text": [
      "L'espècie amb el valor màxim de la mitjana de la variable 'sepal length (cm)' és: virginica\n"
     ]
    }
   ],
   "source": [
    "max_longitud_sepal = np.argmax(mitjanes_per_especie[:, 0])\n",
    "\n",
    "print(f\"L'espècie amb el valor màxim de la mitjana de la variable 'sepal length (cm)' és: {noms_especies[max_longitud_sepal]}\")"
   ]
  },
  {
   "cell_type": "markdown",
   "id": "8c9aa1c4",
   "metadata": {},
   "source": [
    "#### 7. \n",
    "- Calcula la matriu de correlació entre les variables.\n",
    "- Filtra els valors majors a la mitjana de la longitud dels pètals i mostra-ho. \n",
    "- Troba la mostra amb els pètals més grans."
   ]
  },
  {
   "cell_type": "code",
   "execution_count": 28,
   "id": "c6e7bce0",
   "metadata": {},
   "outputs": [
    {
     "data": {
      "text/plain": [
       "array([[ 1.        , -0.11756978,  0.87175378,  0.81794113],\n",
       "       [-0.11756978,  1.        , -0.4284401 , -0.36612593],\n",
       "       [ 0.87175378, -0.4284401 ,  1.        ,  0.96286543],\n",
       "       [ 0.81794113, -0.36612593,  0.96286543,  1.        ]])"
      ]
     },
     "execution_count": 28,
     "metadata": {},
     "output_type": "execute_result"
    }
   ],
   "source": [
    "matriu_correlacio = np.corrcoef(data, rowvar=False)\n",
    "matriu_correlacio"
   ]
  },
  {
   "cell_type": "code",
   "execution_count": 29,
   "id": "9f666f6e",
   "metadata": {},
   "outputs": [
    {
     "name": "stdout",
     "output_type": "stream",
     "text": [
      "Valors majors a la mitjana de la longitud dels pètals:\n",
      " [4.7 4.5 4.9 4.  4.6 4.5 4.7 4.6 3.9 4.2 4.  4.7 4.4 4.5 4.1 4.5 3.9 4.8\n",
      " 4.  4.9 4.7 4.3 4.4 4.8 5.  4.5 3.8 3.9 5.1 4.5 4.5 4.7 4.4 4.1 4.  4.4\n",
      " 4.6 4.  4.2 4.2 4.2 4.3 4.1 6.  5.1 5.9 5.6 5.8 6.6 4.5 6.3 5.8 6.1 5.1\n",
      " 5.3 5.5 5.  5.1 5.3 5.5 6.7 6.9 5.  5.7 4.9 6.7 4.9 5.7 6.  4.8 4.9 5.6\n",
      " 5.8 6.1 6.4 5.6 5.1 5.6 6.1 5.6 5.5 4.8 5.4 5.6 5.1 5.1 5.9 5.7 5.2 5.\n",
      " 5.2 5.4 5.1]\n"
     ]
    }
   ],
   "source": [
    "mitjana_longitud_petal = np.mean(data[:, 2])\n",
    "\n",
    "valors_major_mitjana = data[data[:, 2] > mitjana_longitud_petal, 2]\n",
    "\n",
    "print('Valors majors a la mitjana de la longitud dels pètals:\\n', valors_major_mitjana)"
   ]
  },
  {
   "cell_type": "code",
   "execution_count": 30,
   "id": "e7fc5b76",
   "metadata": {},
   "outputs": [
    {
     "name": "stdout",
     "output_type": "stream",
     "text": [
      "La mostra amb els pètals més grans és la següent: [7.7 2.6 6.9 2.3]\n"
     ]
    }
   ],
   "source": [
    "max_longitud_petals = data[np.argmax(data[:,2])]\n",
    "\n",
    "print('La mostra amb els pètals més grans és la següent:', max_longitud_petals)"
   ]
  },
  {
   "cell_type": "markdown",
   "id": "76141d7e",
   "metadata": {},
   "source": [
    "#### 8. Troba l'espècie amb la diferència més gran entre la longitud mitjana de sèpals i pètals."
   ]
  },
  {
   "cell_type": "code",
   "execution_count": 31,
   "id": "37cd305d",
   "metadata": {},
   "outputs": [
    {
     "name": "stdout",
     "output_type": "stream",
     "text": [
      "L'espècie amb la diferència més gran entre la longitud mitjana de sèpals i pètals és: setosa\n"
     ]
    }
   ],
   "source": [
    "especie_dif_max = noms_especies[np.argmax(np.abs(mitjanes_per_especie[:, 0] - mitjanes_per_especie[:, 2]))]\n",
    "\n",
    "print(\"L'espècie amb la diferència més gran entre la longitud mitjana de sèpals i pètals és:\", especie_dif_max)"
   ]
  }
 ],
 "metadata": {
  "kernelspec": {
   "display_name": "Python 3 (ipykernel)",
   "language": "python",
   "name": "python3"
  },
  "language_info": {
   "codemirror_mode": {
    "name": "ipython",
    "version": 3
   },
   "file_extension": ".py",
   "mimetype": "text/x-python",
   "name": "python",
   "nbconvert_exporter": "python",
   "pygments_lexer": "ipython3",
   "version": "3.10.9"
  }
 },
 "nbformat": 4,
 "nbformat_minor": 5
}
